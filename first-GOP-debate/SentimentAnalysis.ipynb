{
 "cells": [
  {
   "cell_type": "code",
   "execution_count": 2,
   "metadata": {
    "collapsed": false
   },
   "outputs": [
    {
     "name": "stdout",
     "output_type": "stream",
     "text": [
      "Dataset has 13871 rows, 21 columns\n",
      "    id               candidate  candidate_confidence relevant_yn  \\\n",
      "0    1  No candidate mentioned                     1         yes   \n",
      "1    2            Scott Walker                     1         yes   \n",
      "2    3  No candidate mentioned                     1         yes   \n",
      "3    4  No candidate mentioned                     1         yes   \n",
      "4    5            Donald Trump                     1         yes   \n",
      "\n",
      "   relevant_yn_confidence sentiment  sentiment_confidence     subject_matter  \\\n",
      "0                       1   Neutral                0.6578  None of the above   \n",
      "1                       1  Positive                0.6333  None of the above   \n",
      "2                       1   Neutral                0.6629  None of the above   \n",
      "3                       1  Positive                1.0000  None of the above   \n",
      "4                       1  Positive                0.7045  None of the above   \n",
      "\n",
      "   subject_matter_confidence candidate_gold             ...              \\\n",
      "0                     1.0000            NaN             ...               \n",
      "1                     1.0000            NaN             ...               \n",
      "2                     0.6629            NaN             ...               \n",
      "3                     0.7039            NaN             ...               \n",
      "4                     1.0000            NaN             ...               \n",
      "\n",
      "  relevant_yn_gold retweet_count  sentiment_gold subject_matter_gold  \\\n",
      "0              NaN             5             NaN                 NaN   \n",
      "1              NaN            26             NaN                 NaN   \n",
      "2              NaN            27             NaN                 NaN   \n",
      "3              NaN           138             NaN                 NaN   \n",
      "4              NaN           156             NaN                 NaN   \n",
      "\n",
      "                                                text tweet_coord  \\\n",
      "0  RT @NancyLeeGrahn: How did everyone feel about...         NaN   \n",
      "1  RT @ScottWalker: Didn't catch the full #GOPdeb...         NaN   \n",
      "2  Re-SubmissionT @TJMShow: No mention of Tamir R...         NaN   \n",
      "3  RT @RobGeorge: That Carly Fiorina is trending ...         NaN   \n",
      "4  RT @DanScavino: #GOPDebate w/ @realDonaldTrump...         NaN   \n",
      "\n",
      "               tweet_created            tweet_id  tweet_location  \\\n",
      "0  2015-08-07 09:54:46 -0700  629697200650592256             NaN   \n",
      "1  2015-08-07 09:54:46 -0700  629697199560069120             NaN   \n",
      "2  2015-08-07 09:54:46 -0700  629697199312482304             NaN   \n",
      "3  2015-08-07 09:54:45 -0700  629697197118861312           Texas   \n",
      "4  2015-08-07 09:54:45 -0700  629697196967903232             NaN   \n",
      "\n",
      "                user_timezone  \n",
      "0                       Quito  \n",
      "1                         NaN  \n",
      "2                         NaN  \n",
      "3  Central Time (US & Canada)  \n",
      "4                     Arizona  \n",
      "\n",
      "[5 rows x 21 columns]\n"
     ]
    }
   ],
   "source": [
    "import numpy as np\n",
    "import pandas as pd\n",
    "import matplotlib.pyplot as plt\n",
    "\n",
    "# Tell iPython to include plots inline in the notebook\n",
    "%matplotlib inline\n",
    "\n",
    "data = pd.read_csv(\"Sentiment.csv\")\n",
    "print \"Dataset has {} rows, {} columns\".format(*data.shape)\n",
    "print data.head()  # print the first 5 rows"
   ]
  },
  {
   "cell_type": "code",
   "execution_count": 3,
   "metadata": {
    "collapsed": false
   },
   "outputs": [
    {
     "name": "stdout",
     "output_type": "stream",
     "text": [
      "[(' id', 0), ('candidate', 1), ('candidate_confidence', 2), ('relevant_yn', 3), ('relevant_yn_confidence', 4), ('sentiment', 5), ('sentiment_confidence', 6), ('subject_matter', 7), ('subject_matter_confidence', 8), ('candidate_gold', 9), ('name', 10), ('relevant_yn_gold', 11), ('retweet_count', 12), ('sentiment_gold', 13), ('subject_matter_gold', 14), ('text', 15), ('tweet_coord', 16), ('tweet_created', 17), ('tweet_id', 18), ('tweet_location', 19), ('user_timezone', 20)]\n"
     ]
    }
   ],
   "source": [
    "#A lot of information we really aren't interested in, so take a look at the columns with their index.\n",
    "header_index = [(i,z) for z,i in enumerate(data.columns.view())]\n",
    "print header_index"
   ]
  },
  {
   "cell_type": "code",
   "execution_count": 4,
   "metadata": {
    "collapsed": false
   },
   "outputs": [
    {
     "name": "stdout",
     "output_type": "stream",
     "text": [
      "    id sentiment  sentiment_confidence  \\\n",
      "0    1   Neutral                0.6578   \n",
      "1    2  Positive                0.6333   \n",
      "2    3   Neutral                0.6629   \n",
      "3    4  Positive                1.0000   \n",
      "4    5  Positive                0.7045   \n",
      "\n",
      "                                                text  \n",
      "0  RT @NancyLeeGrahn: How did everyone feel about...  \n",
      "1  RT @ScottWalker: Didn't catch the full #GOPdeb...  \n",
      "2  Re-SubmissionT @TJMShow: No mention of Tamir R...  \n",
      "3  RT @RobGeorge: That Carly Fiorina is trending ...  \n",
      "4  RT @DanScavino: #GOPDebate w/ @realDonaldTrump...  \n"
     ]
    }
   ],
   "source": [
    "#Now we can drop the ones we won't be using.  Keeping ID-0, sentiment-5, sentiment_confidence-6, text-15.\n",
    "df = data.drop(data.columns[[1,2,3,4,7,8,9,10,11,12,13,14,16,17,18,19,20]], axis=1)\n",
    "print df.head()"
   ]
  },
  {
   "cell_type": "code",
   "execution_count": 5,
   "metadata": {
    "collapsed": false
   },
   "outputs": [
    {
     "name": "stdout",
     "output_type": "stream",
     "text": [
      "The total number of samples is : 13871\n",
      "There are 2236 positive tweets or 0.161199625117%\n",
      "There are 8493 Negative tweets or 0.612284622594%\n",
      "There are 3142 Neutral tweets or 0.226515752289%\n",
      "\n",
      "\n"
     ]
    }
   ],
   "source": [
    "# Lets get some stats, how many positive, how many neutral, how many negative.  Also mean confidence scores.\n",
    "\n",
    "total_tweets = len(df)\n",
    "positive_tweets = sum(df.sentiment == 'Positive')\n",
    "negative_tweets = sum(df.sentiment == 'Negative')\n",
    "neutral_tweets = sum(df.sentiment == \"Neutral\")\n",
    "\n",
    "print \"The total number of samples is : {}\".format(len(df.sentiment))\n",
    "print \"There are {} positive tweets or {}%\".format \\\n",
    "(positive_tweets, positive_tweets/float(total_tweets) )\n",
    "print \"There are {} Negative tweets or {}%\".format \\\n",
    "(negative_tweets, negative_tweets / float(total_tweets))\n",
    "print \"There are {} Neutral tweets or {}%\".format \\\n",
    "(neutral_tweets, neutral_tweets/ float(total_tweets))\n",
    "\n",
    "print \"\\n\"\n",
    "\n",
    "#mean_confidence_positive = df.sentiment_confidence[df.sentiment == \"Positive\"]\n",
    "#print mean_confidence_positive\n"
   ]
  },
  {
   "cell_type": "code",
   "execution_count": null,
   "metadata": {
    "collapsed": true
   },
   "outputs": [],
   "source": []
  }
 ],
 "metadata": {
  "kernelspec": {
   "display_name": "Python 2",
   "language": "python",
   "name": "python2"
  },
  "language_info": {
   "codemirror_mode": {
    "name": "ipython",
    "version": 2
   },
   "file_extension": ".py",
   "mimetype": "text/x-python",
   "name": "python",
   "nbconvert_exporter": "python",
   "pygments_lexer": "ipython2",
   "version": "2.7.11"
  }
 },
 "nbformat": 4,
 "nbformat_minor": 0
}
