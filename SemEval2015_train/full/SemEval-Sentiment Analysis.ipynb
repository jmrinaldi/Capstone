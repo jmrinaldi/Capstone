{
 "cells": [
  {
   "cell_type": "code",
   "execution_count": 1,
   "metadata": {
    "collapsed": false
   },
   "outputs": [
    {
     "name": "stdout",
     "output_type": "stream",
     "text": [
      "Dataset has 9665 rows, 4 columns\n",
      "                   id   tweet-id             sentiment  \\\n",
      "0  264183816548130816   15140428              positive   \n",
      "1  263405084770172928  591166521              negative   \n",
      "2  262163168678248449   35266263              negative   \n",
      "3  264249301910310912   18516728              negative   \n",
      "4  262682041215234048  254373818  objective-OR-neutral   \n",
      "\n",
      "                                                text  \n",
      "0  Gas by my house hit $3.39!!!! I'm going to Cha...  \n",
      "1                                      Not Available  \n",
      "2                                      Not Available  \n",
      "3  Iranian general says Israel's Iron Dome can't ...  \n",
      "4                                      Not Available  \n"
     ]
    }
   ],
   "source": [
    "import numpy as np\n",
    "import pandas as pd\n",
    "import matplotlib.pyplot as plt\n",
    "import re\n",
    "\n",
    "\n",
    "# Tell iPython to include plots inline in the notebook\n",
    "%matplotlib inline\n",
    "\n",
    "data = pd.read_csv(\"downloaded2.tsv\", sep = '\\t')\n",
    "print \"Dataset has {} rows, {} columns\".format(*data.shape)\n",
    "print data.head()  # print the first 5 rows"
   ]
  },
  {
   "cell_type": "code",
   "execution_count": 2,
   "metadata": {
    "collapsed": false
   },
   "outputs": [
    {
     "name": "stdout",
     "output_type": "stream",
     "text": [
      "              sentiment                                               text\n",
      "0              positive  Gas by my house hit $3.39!!!! I'm going to Cha...\n",
      "1              negative                                      Not Available\n",
      "2              negative                                      Not Available\n",
      "3              negative  Iranian general says Israel's Iron Dome can't ...\n",
      "4  objective-OR-neutral                                      Not Available\n"
     ]
    }
   ],
   "source": [
    "#Let's drop the id-columns, they were used to download the twitter data, with twitter API.\n",
    "df = data.drop(data.columns[[0,1]], axis=1)\n",
    "print df.head()"
   ]
  },
  {
   "cell_type": "code",
   "execution_count": 3,
   "metadata": {
    "collapsed": false
   },
   "outputs": [
    {
     "name": "stdout",
     "output_type": "stream",
     "text": [
      "  sentiment                                               text\n",
      "0  positive  Gas by my house hit $3.39!!!! I'm going to Cha...\n",
      "1  negative  Iranian general says Israel's Iron Dome can't ...\n",
      "2  positive  with J Davlar 11th. Main rivals are team Polan...\n",
      "3  negative  Talking about ACT's &amp;&amp; SAT's, deciding...\n",
      "4  negative  They may have a SuperBowl in Dallas, but Dalla...\n",
      "Dataset has 7549 rows, 2 columns\n",
      "               sentiment                                               text\n",
      "0               positive  Gas by my house hit $3.39!!!! I'm going to Cha...\n",
      "1               negative  Iranian general says Israel's Iron Dome can't ...\n",
      "2               positive  with J Davlar 11th. Main rivals are team Polan...\n",
      "3               negative  Talking about ACT's &amp;&amp; SAT's, deciding...\n",
      "4               negative  They may have a SuperBowl in Dallas, but Dalla...\n",
      "5                neutral  Im bringing the monster load of candy tomorrow...\n",
      "6   objective-OR-neutral  Apple software, retail chiefs out in overhaul:...\n",
      "7               positive  @oluoch @victor_otti @kunjand I just watched i...\n",
      "8              objective  #Livewire Nadal confirmed for Mexican Open in ...\n",
      "9               positive  @MsSheLahY I didnt want to just pop up... but ...\n",
      "10               neutral  @Alyoup005 @addicted2haley hmmmm  November is ...\n",
      "11             objective  #Iran US delisting MKO from global terrorists ...\n",
      "12              positive  Good Morning Becky ! Thursday is going to be F...\n",
      "13             objective  Expect light-moderate rains over E. Visayas; C...\n",
      "14              positive  One ticket left for the @49ers game tomorrow! ...\n",
      "15              negative  AFC away fans on Saturday. All this stuff abou...\n",
      "16              negative  Why is it so hard to find the @TVGuideMagazine...\n",
      "17  objective-OR-neutral  Game 1 of the NLCS and a rematch of the NFC Ch...\n",
      "18               neutral  @TrevorJavier the heat game may cost alot more...\n",
      "19              positive  Never start working on your dreams and goals t...\n"
     ]
    }
   ],
   "source": [
    "#Now let's drop all the rows in which the tweet was no longer available.\n",
    "df = df[df.text != \"Not Available\"]\n",
    "df = df.reset_index(drop=True) #reset the index after dropping the above rows\n",
    "print df.head()\n",
    "print \"Dataset has {} rows, {} columns\".format(*df.shape)\n",
    "print df[:20]"
   ]
  },
  {
   "cell_type": "code",
   "execution_count": 4,
   "metadata": {
    "collapsed": false
   },
   "outputs": [
    {
     "name": "stdout",
     "output_type": "stream",
     "text": [
      "    sentiment                                               text\n",
      "0           1  Gas by my house hit $3.39!!!! I'm going to Cha...\n",
      "1          -1  Iranian general says Israel's Iron Dome can't ...\n",
      "2           1  with J Davlar 11th. Main rivals are team Polan...\n",
      "3          -1  Talking about ACT's &amp;&amp; SAT's, deciding...\n",
      "4          -1  They may have a SuperBowl in Dallas, but Dalla...\n",
      "5           0  Im bringing the monster load of candy tomorrow...\n",
      "6           0  Apple software, retail chiefs out in overhaul:...\n",
      "7           1  @oluoch @victor_otti @kunjand I just watched i...\n",
      "8           0  #Livewire Nadal confirmed for Mexican Open in ...\n",
      "9           1  @MsSheLahY I didnt want to just pop up... but ...\n",
      "10          0  @Alyoup005 @addicted2haley hmmmm  November is ...\n",
      "11          0  #Iran US delisting MKO from global terrorists ...\n",
      "12          1  Good Morning Becky ! Thursday is going to be F...\n",
      "13          0  Expect light-moderate rains over E. Visayas; C...\n",
      "14          1  One ticket left for the @49ers game tomorrow! ...\n",
      "15         -1  AFC away fans on Saturday. All this stuff abou...\n",
      "16         -1  Why is it so hard to find the @TVGuideMagazine...\n",
      "17          0  Game 1 of the NLCS and a rematch of the NFC Ch...\n",
      "18          0  @TrevorJavier the heat game may cost alot more...\n",
      "19          1  Never start working on your dreams and goals t...\n"
     ]
    }
   ],
   "source": [
    "#Next we need to re-write the neutral / objective labels to all be neutral.  The organizers kept this distinction\n",
    "#for other tasks, but for this task, it's considered the same.\n",
    "# so, let's re-write all objective ->neutral, and all neutral-OR-objective --> neutral.\n",
    "\n",
    "#Since we probably will want our labels numeric (some classifiers may not like 3-way text labels),\n",
    "#we can do that all now.\n",
    "df = df.apply(lambda x: x.replace(['positive', 'negative', 'neutral', 'objective', 'objective-OR-neutral']\n",
    "                                  , [1, -1,0,0,0]) ,1)\n",
    "print df[:20]"
   ]
  },
  {
   "cell_type": "code",
   "execution_count": 5,
   "metadata": {
    "collapsed": false
   },
   "outputs": [
    {
     "name": "stdout",
     "output_type": "stream",
     "text": [
      "The total number of samples is : 7549\n",
      "There are 2820 positive tweets or 0.373559411843%\n",
      "There are 1066 Negative tweets or 0.141210756392%\n",
      "There are 3663 Neutral tweets or 0.485229831766%\n"
     ]
    }
   ],
   "source": [
    "#Let's take a look at our class distribution\n",
    "total_tweets = len(df)\n",
    "positive_tweets = sum(df.sentiment == 1)\n",
    "negative_tweets = sum(df.sentiment == -1)\n",
    "neutral_tweets = sum(df.sentiment == 0)\n",
    "\n",
    "print \"The total number of samples is : {}\".format(len(df.sentiment))\n",
    "print \"There are {} positive tweets or {}%\".format \\\n",
    "(positive_tweets, positive_tweets/float(total_tweets) )\n",
    "print \"There are {} Negative tweets or {}%\".format \\\n",
    "(negative_tweets, negative_tweets / float(total_tweets))\n",
    "print \"There are {} Neutral tweets or {}%\".format \\\n",
    "(neutral_tweets, neutral_tweets/ float(total_tweets))"
   ]
  },
  {
   "cell_type": "code",
   "execution_count": 6,
   "metadata": {
    "collapsed": false
   },
   "outputs": [
    {
     "name": "stdout",
     "output_type": "stream",
     "text": [
      "0    Gas by my house hit $3.39!!!! I'm going to Cha...\n",
      "1    Iranian general says Israel's Iron Dome can't ...\n",
      "2    with J Davlar 11th. Main rivals are team Polan...\n",
      "3    Talking about ACT's &amp;&amp; SAT's, deciding...\n",
      "4    They may have a SuperBowl in Dallas, but Dalla...\n",
      "Name: text, dtype: object\n",
      "0    1\n",
      "1   -1\n",
      "2    1\n",
      "3   -1\n",
      "4   -1\n",
      "Name: sentiment, dtype: int64\n"
     ]
    }
   ],
   "source": [
    "#Let's split up the labels from the training data\n",
    "\n",
    "X_all = df['text']\n",
    "y_all = df['sentiment']\n",
    "\n",
    "print X_all.head()\n",
    "print y_all.head()"
   ]
  },
  {
   "cell_type": "code",
   "execution_count": 7,
   "metadata": {
    "collapsed": false
   },
   "outputs": [
    {
     "name": "stdout",
     "output_type": "stream",
     "text": [
      "['Gas', 'by', 'my', 'house', 'hit', '$3.39!!!!', \"I'm\", 'going', 'to', 'Chapel', 'Hill', 'on', 'Sat.', ':)']\n"
     ]
    }
   ],
   "source": [
    "# Let's load the texts into lists and remove RT's and URls\n",
    "# we will build a custom function for an individual tweet, \n",
    "#and then use Pandas Dataframe.apply() to run it on all tweets.\n",
    "\n",
    "first_tweet = \"Gas by my house hit $3.39!!!! I'm going to Chapel Hill on Sat. :)\"\n",
    "def parse_tweet (text):\n",
    "    text = text.split()\n",
    "    return text\n",
    "    \n",
    "parsed_tweet = parse_tweet(first_tweet)\n",
    "print parsed_tweet\n",
    "#this results in the most basic splitting operation.  However it gets us very close to what we want.\n",
    "#In the below output the only concern I have is with \"!!!!\" attached to \"$3.39\".  This is not really ideal.    "
   ]
  },
  {
   "cell_type": "code",
   "execution_count": 8,
   "metadata": {
    "collapsed": false
   },
   "outputs": [
    {
     "name": "stdout",
     "output_type": "stream",
     "text": [
      "['Gas', 'by', 'my', 'house', 'hit', '$3.39', '!', '!', '!', '!', \"I'm\", 'going', 'to', 'Chapel', 'Hill', 'on', 'Sat', '.', ':)']\n",
      "['Cool', '#cdnpoli', 'Call', 'the', 'hospital', 'in', 'Iqaluit', '&amp;', 'press', '2', 'for', 'English', '.', 'Experience', 'an', 'aboriginal', 'language', 'as', '1st', 'choice']\n",
      "['For', 'how', 'long,', 'i', 'might', 'be', 'in', 'NJ', 'then', '?', '@blove402', 'Thursday', 'Night', 'the', '13th', 'of', 'Dec', '.']\n",
      "['Get', 'ready', 'for', 'our', 'Wednesday', 'Drink', 'Specials', 'Wednesday', '-', '3-8pm', 'Have', 'it', 'your', 'Way', 'Margarita', 'Day', '(', 'Bar', 'Brand', 'Only)', 'DOTDOTDOT']\n"
     ]
    }
   ],
   "source": [
    "#Let's enhance the parser to deal with a few more special cases\n",
    "\n",
    "#compile regex outside of the function, because we will be running this function in a loop.\n",
    "retweets = re.compile(r'(RT ?@.*:)')   \n",
    "urls = re.compile(r'(http:.*\\b)')\n",
    "dotdotdot = re.compile(r'(\\.\\.\\.)')\n",
    "pound_question = re.compile(r'([!\\?])')\n",
    "period_dot = re.compile(r'(\\.(?!\\d))')\n",
    "\n",
    "regex_args = (retweets, urls, dotdotdot, pound_question, period_dot)\n",
    "\n",
    "\n",
    "def parse_tweet (text , retweets, urls, dotdotdot, pound_question, period_dot):\n",
    "    text = re.sub(retweets, \"\", text) #removes RT@thisguy: or RT @thisguy:   two common Retweet bits I dont' need\n",
    "    text = re.sub(urls, \"\", text) # removes URL's\n",
    "    text = re.sub(dotdotdot, ' DOTDOTDOT', text) #replace '...' with \"DOTDOTDOT' so i preserve the meaning in that token\n",
    "    text = re.sub(pound_question, r' \\1 ', text)  #eyes bleeding? Searches for ! ? and adds white space around them.\n",
    "    text = re.sub(period_dot, r' \\1 ', text) #more blood.  searched for '.' but looks ahead for digits. will not break 3.39\n",
    "  \n",
    "    text = text.split()\n",
    "    return text\n",
    "\n",
    "\n",
    "############\n",
    "#Test cases#\n",
    "############\n",
    "first_tweet = \"Gas by my house hit $3.39!!!! I'm going to Chapel Hill on Sat. :)\"\n",
    "RT_tweet_1 = \"Cool #cdnpoli RT@angelpike: Call the hospital in Iqaluit &amp; press 2 for English. \\\n",
    "Experience an aboriginal language as 1st choice\"\n",
    "RT_tweet_2 = \"For how long, i might be in NJ then?RT @FoolishInApril: @blove402 Thursday Night the 13th of Dec.\"\n",
    "URL_tweet = \"Get ready for our Wednesday Drink Specials Wednesday - 3-8pm Have it your Way Margarita Day \\\n",
    "( Bar Brand Only)... http://t.co/ml806WRT\"\n",
    "\n",
    "test1 = parse_tweet(first_tweet, *regex_args)\n",
    "test2 = parse_tweet(RT_tweet_1, *regex_args)\n",
    "test3 = parse_tweet(RT_tweet_2, *regex_args)\n",
    "test4 = parse_tweet(URL_tweet, *regex_args)\n",
    "print test1\n",
    "print test2\n",
    "print test3\n",
    "print test4"
   ]
  },
  {
   "cell_type": "code",
   "execution_count": 10,
   "metadata": {
    "collapsed": false
   },
   "outputs": [
    {
     "name": "stdout",
     "output_type": "stream",
     "text": [
      "0    Gas by my house hit $3.39!!!! I'm going to Cha...\n",
      "1    Iranian general says Israel's Iron Dome can't ...\n",
      "2    with J Davlar 11th. Main rivals are team Polan...\n",
      "3    Talking about ACT's &amp;&amp; SAT's, deciding...\n",
      "4    They may have a SuperBowl in Dallas, but Dalla...\n",
      "Name: text, dtype: object\n",
      "0    [Gas, by, my, house, hit, $3.39, !, !, !, !, I...\n",
      "1    [Iranian, general, says, Israel's, Iron, Dome,...\n",
      "2    [with, J, Davlar, 11th, ., Main, rivals, are, ...\n",
      "3    [Talking, about, ACT's, &amp;&amp;, SAT's,, de...\n",
      "4    [They, may, have, a, SuperBowl, in, Dallas,, b...\n",
      "Name: text, dtype: object\n"
     ]
    }
   ],
   "source": [
    "# ok, now that we have rough parsing, lets parse them all!\n",
    "\n",
    "X_all_parsed = X_all.apply(lambda x: parse_tweet(x,*regex_args))\n",
    "print X_all.head()\n",
    "print X_all_parsed.head()"
   ]
  },
  {
   "cell_type": "code",
   "execution_count": 14,
   "metadata": {
    "collapsed": false
   },
   "outputs": [
    {
     "name": "stdout",
     "output_type": "stream",
     "text": [
      "size of training tweets:  5661\n",
      "size of testing tweets:  1888\n"
     ]
    }
   ],
   "source": [
    "# now that we have all the tweets parsed, we actually want to split into our training / testing sets. \n",
    "# This is because n-gram analysis (which comes next), should not be done on the testing data!\n",
    "# TODO try to implement n-gram analysis with cross validation, for now I'll use a hold-out testing set\n",
    "from sklearn import cross_validation\n",
    "\n",
    "X_train, X_test, y_train, y_test = cross_validation.train_test_split(\n",
    "        X_all_parsed, y_all, test_size=0.25)\n",
    "\n",
    "print \"size of training tweets: \", len(X_train)\n",
    "print \"size of testing tweets: \", len(X_test)"
   ]
  },
  {
   "cell_type": "code",
   "execution_count": null,
   "metadata": {
    "collapsed": true
   },
   "outputs": [],
   "source": [
    "#Let's start with a unigram analysis\n",
    "\n",
    "\n",
    "def gram_map(tweet_vector, gram_size):\n",
    "    \"\"\"\n",
    "    tweet-vector should be a vector of tweets.\n",
    "    gram_size should be scalar, 1, 2, 3 etc.\n",
    "    \"\"\"\n",
    "    gram_map = {} #this will hold a key for every single unigram, with the count as the value. i.e. {\"talking\" : 20,}\n",
    "    \n",
    "    \n",
    "    \n",
    "    "
   ]
  }
 ],
 "metadata": {
  "kernelspec": {
   "display_name": "Python 2",
   "language": "python",
   "name": "python2"
  },
  "language_info": {
   "codemirror_mode": {
    "name": "ipython",
    "version": 2
   },
   "file_extension": ".py",
   "mimetype": "text/x-python",
   "name": "python",
   "nbconvert_exporter": "python",
   "pygments_lexer": "ipython2",
   "version": "2.7.11"
  }
 },
 "nbformat": 4,
 "nbformat_minor": 0
}
